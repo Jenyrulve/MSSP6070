{
  "nbformat": 4,
  "nbformat_minor": 0,
  "metadata": {
    "colab": {
      "provenance": []
    },
    "kernelspec": {
      "name": "python3",
      "display_name": "Python 3"
    },
    "language_info": {
      "name": "python"
    }
  },
  "cells": [
    {
      "cell_type": "code",
      "execution_count": 1,
      "metadata": {
        "colab": {
          "base_uri": "https://localhost:8080/"
        },
        "id": "pR3ltx1RKOEh",
        "outputId": "701150de-3aba-4174-c287-fadbe002e94f"
      },
      "outputs": [
        {
          "output_type": "stream",
          "name": "stdout",
          "text": [
            "[2, 4, 'hello', 8, 10]\n"
          ]
        }
      ],
      "source": [
        "# Q2\n",
        "# create variable spam\n",
        "spam = [2, 4, 6, 8, 10]\n",
        "\n",
        "# change the third value to \"hello\"\n",
        "spam[2] = \"hello\"\n",
        "\n",
        "# print to check the result\n",
        "print(spam)"
      ]
    },
    {
      "cell_type": "code",
      "source": [
        "# Q3\n",
        "# Create a variable called 'letters' that contains ['a',  'b',  'c', 'd'].\n",
        "letters = ['a', 'b', 'c', 'd']\n",
        "\n",
        "# What does letters[int(int('3'*2)//11)] evaluate to? Explain why in a comment.\n",
        "result_b = letters[int(int('3'*2)//11)]\n",
        "print(\"letters[int(int('3'*2)//11)] =\", result_b)\n",
        "print(\"When evaluating letters[int(int('3'*2)//11)], the expression '3'*2 produces the string '33'. Converting this with int('33') gives the integer 33. Dividing 33 by 11 using floor division (33//11) results in 3, and int(3) is still 3. Finally, letters[3] accesses the fourth element of the list letters, which is 'd'.\")\n",
        "\n",
        "# What does letters[-1] evaluate to? Explain why in a comment.\n",
        "result_c = letters[-1]\n",
        "print(\"letters[-1] =\", result_c)\n",
        "print(\"Index -1 refers to the last element of the list, so it returns 'd'\")\n",
        "\n",
        "# What does letters[:2] evaluate to? Explain why in a comment.\n",
        "result_d = letters[:2]\n",
        "print(\"letters[:2] =\", result_d)\n",
        "print(\"[:2] slices the list from the beginning up to, but not including, index 2, so it returns ['a', 'b']\")\n"
      ],
      "metadata": {
        "colab": {
          "base_uri": "https://localhost:8080/"
        },
        "id": "hUizb0ufKfGD",
        "outputId": "140243e6-1491-4ddd-cc1e-cd3a5063b670"
      },
      "execution_count": 4,
      "outputs": [
        {
          "output_type": "stream",
          "name": "stdout",
          "text": [
            "letters[int(int('3'*2)//11)] = d\n",
            "When evaluating letters[int(int('3'*2)//11)], the expression '3'*2 produces the string '33'. Converting this with int('33') gives the integer 33. Dividing 33 by 11 using floor division (33//11) results in 3, and int(3) is still 3. Finally, letters[3] accesses the fourth element of the list letters, which is 'd'.\n",
            "letters[-1] = d\n",
            "Index -1 refers to the last element of the list, so it returns 'd'\n",
            "letters[:2] = ['a', 'b']\n",
            "[:2] slices the list from the beginning up to, but not including, index 2, so it returns ['a', 'b']\n"
          ]
        }
      ]
    },
    {
      "cell_type": "code",
      "source": [
        "# Q4\n",
        "\n",
        "# A sample list\n",
        "my_list = ['a', 'b', 'c', 'd']\n",
        "\n",
        "# Convert list to tuple\n",
        "my_tuple = tuple(my_list)\n",
        "print(\"Tuple form of list:\", my_tuple)\n",
        "\n",
        "# Convert tuple back to list\n",
        "back_to_list = list(my_tuple)\n",
        "print(\"List form of tuple:\", back_to_list)\n",
        "\n"
      ],
      "metadata": {
        "colab": {
          "base_uri": "https://localhost:8080/"
        },
        "id": "ytDX8aA9LnkJ",
        "outputId": "343fe89b-812f-47dc-e2a2-15dd5b89f432"
      },
      "execution_count": 7,
      "outputs": [
        {
          "output_type": "stream",
          "name": "stdout",
          "text": [
            "Tuple form of list: ('a', 'b', 'c', 'd')\n",
            "List form of tuple: ['a', 'b', 'c', 'd']\n"
          ]
        }
      ]
    },
    {
      "cell_type": "code",
      "source": [
        "# Q5\n",
        "\n",
        "def comma_code(items):\n",
        "    \"\"\"\n",
        "    Accepts a list and returns a string with all items separated by commas,\n",
        "    and 'and' before the last item.\n",
        "    Variable:\n",
        "    item -- list of strings\n",
        "    \"\"\"\n",
        "    if len(items) == 0:\n",
        "        return \"\"\n",
        "    elif len(items) == 1:\n",
        "        return items[0]\n",
        "    else:\n",
        "        return ', '.join(items[:-1]) + ', and ' + items[-1]\n",
        "\n",
        "# Result\n",
        "spam = ['apples', 'bananas', 'tofu', 'cats']\n",
        "result = comma_code(spam)\n",
        "print(\"Original list:\", spam)\n",
        "print(\"Formatted string:\", result)\n"
      ],
      "metadata": {
        "colab": {
          "base_uri": "https://localhost:8080/"
        },
        "id": "7LZxE2hkMLGF",
        "outputId": "5fa8e574-c2eb-4f15-a505-352fcc768645"
      },
      "execution_count": 8,
      "outputs": [
        {
          "output_type": "stream",
          "name": "stdout",
          "text": [
            "Original list: ['apples', 'bananas', 'tofu', 'cats']\n",
            "Formatted string: apples, bananas, tofu, and cats\n"
          ]
        }
      ]
    }
  ]
}